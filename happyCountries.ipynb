{
 "cells": [
  {
   "cell_type": "markdown",
   "id": "353c00c9",
   "metadata": {},
   "source": [
    "# PROYECTO BIG DATA PROCESSING"
   ]
  },
  {
   "cell_type": "markdown",
   "id": "830c42e1",
   "metadata": {},
   "source": [
    "### Análisis de la felicidad en el mundo"
   ]
  },
  {
   "cell_type": "code",
   "execution_count": 1,
   "id": "6ac3a5d9",
   "metadata": {},
   "outputs": [
    {
     "name": "stdout",
     "output_type": "stream",
     "text": [
      "Requirement already satisfied: findspark in /home/lucia/anaconda3/lib/python3.11/site-packages (2.0.1)\r\n"
     ]
    }
   ],
   "source": [
    "!pip install findspark"
   ]
  },
  {
   "cell_type": "code",
   "execution_count": 2,
   "id": "dab49f5d",
   "metadata": {},
   "outputs": [
    {
     "name": "stdout",
     "output_type": "stream",
     "text": [
      "Requirement already satisfied: pyspark in /home/lucia/anaconda3/lib/python3.11/site-packages (3.5.1)\r\n",
      "Requirement already satisfied: py4j==0.10.9.7 in /home/lucia/anaconda3/lib/python3.11/site-packages (from pyspark) (0.10.9.7)\r\n"
     ]
    }
   ],
   "source": [
    "!pip install pyspark"
   ]
  },
  {
   "cell_type": "code",
   "execution_count": 208,
   "id": "d63a38a1",
   "metadata": {},
   "outputs": [],
   "source": [
    "import findspark\n",
    "findspark.init()\n",
    "\n",
    "import pandas as pd\n",
    "\n",
    "import pyspark\n",
    "from pyspark.sql import functions as f\n",
    "from pyspark.sql.types import *\n",
    "from pyspark.sql.functions import col, max, avg, first, dense_rank, rank, row_number\n",
    "from pyspark.sql import Window\n",
    "\n",
    "import seaborn as sns\n",
    "import matplotlib.pyplot as plt\n",
    "\n",
    "%matplotlib inline"
   ]
  },
  {
   "cell_type": "markdown",
   "id": "dd0b7203",
   "metadata": {},
   "source": [
    "### Inicio de sesión en Spark"
   ]
  },
  {
   "cell_type": "code",
   "execution_count": 11,
   "id": "6ab8555d",
   "metadata": {},
   "outputs": [],
   "source": [
    "from pyspark.sql import SparkSession\n",
    "\n",
    "spark = SparkSession.builder\\\n",
    "        .master(\"local[*]\")\\\n",
    "        .appName('PySpark_Tutorial')\\\n",
    "        .getOrCreate()"
   ]
  },
  {
   "cell_type": "markdown",
   "id": "5dd82c16",
   "metadata": {},
   "source": [
    "### Carga de datos felicidad en el año 2021"
   ]
  },
  {
   "cell_type": "code",
   "execution_count": 9,
   "id": "29469f44",
   "metadata": {},
   "outputs": [
    {
     "name": "stdout",
     "output_type": "stream",
     "text": [
      "root\n",
      " |-- Country name: string (nullable = true)\n",
      " |-- Regional indicator: string (nullable = true)\n",
      " |-- Ladder score: string (nullable = true)\n",
      " |-- Standard error of ladder score: string (nullable = true)\n",
      " |-- upperwhisker: string (nullable = true)\n",
      " |-- lowerwhisker: string (nullable = true)\n",
      " |-- Logged GDP per capita: string (nullable = true)\n",
      " |-- Social support: string (nullable = true)\n",
      " |-- Healthy life expectancy: string (nullable = true)\n",
      " |-- Freedom to make life choices: string (nullable = true)\n",
      " |-- Generosity: string (nullable = true)\n",
      " |-- Perceptions of corruption: string (nullable = true)\n",
      " |-- Ladder score in Dystopia: string (nullable = true)\n",
      " |-- Explained by: Log GDP per capita: string (nullable = true)\n",
      " |-- Explained by: Social support: string (nullable = true)\n",
      " |-- Explained by: Healthy life expectancy: string (nullable = true)\n",
      " |-- Explained by: Freedom to make life choices: string (nullable = true)\n",
      " |-- Explained by: Generosity: string (nullable = true)\n",
      " |-- Explained by: Perceptions of corruption: string (nullable = true)\n",
      " |-- Dystopia + residual: string (nullable = true)\n",
      "\n"
     ]
    }
   ],
   "source": [
    "# Carga de datos antes de diseñar el schema\n",
    "data_happy_21 = spark.read.csv(\n",
    "    '/home/lucia/BigDataProcessing/Datasets/world-happiness-report-2021.csv',\n",
    "    sep = ',',\n",
    "    header = True,\n",
    "    )\n",
    "\n",
    "data_happy_21.printSchema()"
   ]
  },
  {
   "cell_type": "code",
   "execution_count": 17,
   "id": "d084af34",
   "metadata": {},
   "outputs": [],
   "source": [
    "# Crear un nuevo esquema de datos con los tipos de datos ya que los carga como Strings\n",
    "data21_schema = [\n",
    "               StructField('Country name', StringType(), True),\n",
    "               StructField('Regional indicator', StringType(), True),\n",
    "               StructField('Ladder score', DoubleType(), True),\n",
    "               StructField('Standard error of ladder score', DoubleType(), True),\n",
    "               StructField('upperwhisker', DoubleType(), True),\n",
    "               StructField('lowerwhisker', DoubleType(), True),\n",
    "               StructField('Logged GDP per capita', DoubleType(), True),\n",
    "               StructField('Social support', DoubleType(), True),\n",
    "               StructField('Healthy life expectancy', DoubleType(), True),\n",
    "               StructField('Freedom to make life choices', DoubleType(), True),\n",
    "               StructField('Generosity', DoubleType(), True),\n",
    "               StructField('Perceptions of corruption', DoubleType(), True),\n",
    "               StructField('Ladder score in Dystopia', DoubleType(), True),\n",
    "               StructField('Explained by: Log GDP per capita', DoubleType(), True),\n",
    "               StructField('Explained by: Social support', DoubleType(), True),\n",
    "               StructField('Explained by: Healthy life expectancy', DoubleType(), True),\n",
    "               StructField('Explained by: Freedom to make life choices', DoubleType(), True),\n",
    "               StructField('Explained by: Generosity', DoubleType(), True),\n",
    "               StructField('Explained by: Perceptions of corruption', DoubleType(), True),\n",
    "               StructField('Dystopia + residual', DoubleType(), True)\n",
    "                ]\n",
    "final_struc_21 = StructType(fields=data21_schema)"
   ]
  },
  {
   "cell_type": "code",
   "execution_count": 18,
   "id": "76e058d5",
   "metadata": {},
   "outputs": [
    {
     "name": "stdout",
     "output_type": "stream",
     "text": [
      "root\n",
      " |-- Country name: string (nullable = true)\n",
      " |-- Regional indicator: string (nullable = true)\n",
      " |-- Ladder score: double (nullable = true)\n",
      " |-- Standard error of ladder score: double (nullable = true)\n",
      " |-- upperwhisker: double (nullable = true)\n",
      " |-- lowerwhisker: double (nullable = true)\n",
      " |-- Logged GDP per capita: double (nullable = true)\n",
      " |-- Social support: double (nullable = true)\n",
      " |-- Healthy life expectancy: double (nullable = true)\n",
      " |-- Freedom to make life choices: double (nullable = true)\n",
      " |-- Generosity: double (nullable = true)\n",
      " |-- Perceptions of corruption: double (nullable = true)\n",
      " |-- Ladder score in Dystopia: double (nullable = true)\n",
      " |-- Explained by: Log GDP per capita: double (nullable = true)\n",
      " |-- Explained by: Social support: double (nullable = true)\n",
      " |-- Explained by: Healthy life expectancy: double (nullable = true)\n",
      " |-- Explained by: Freedom to make life choices: double (nullable = true)\n",
      " |-- Explained by: Generosity: double (nullable = true)\n",
      " |-- Explained by: Perceptions of corruption: double (nullable = true)\n",
      " |-- Dystopia + residual: double (nullable = true)\n",
      "\n"
     ]
    }
   ],
   "source": [
    "# Carga de datos con un esquema\n",
    "\n",
    "data_happy_21 = spark.read.csv(\n",
    "    '/home/lucia/BigDataProcessing/Datasets/world-happiness-report-2021.csv',\n",
    "    sep = ',',\n",
    "    header = True,\n",
    "    schema = final_struc_21\n",
    "    )\n",
    "\n",
    "data_happy_21.printSchema()"
   ]
  },
  {
   "cell_type": "code",
   "execution_count": 22,
   "id": "564d70d2",
   "metadata": {},
   "outputs": [
    {
     "data": {
      "text/plain": [
       "[Row(Country name='Finland', Regional indicator='Western Europe', Ladder score=7.842, Standard error of ladder score=0.032, upperwhisker=7.904, lowerwhisker=7.78, Logged GDP per capita=10.775, Social support=0.954, Healthy life expectancy=72.0, Freedom to make life choices=0.949, Generosity=-0.098, Perceptions of corruption=0.186, Ladder score in Dystopia=2.43, Explained by: Log GDP per capita=1.446, Explained by: Social support=1.106, Explained by: Healthy life expectancy=0.741, Explained by: Freedom to make life choices=0.691, Explained by: Generosity=0.124, Explained by: Perceptions of corruption=0.481, Dystopia + residual=3.253),\n",
       " Row(Country name='Denmark', Regional indicator='Western Europe', Ladder score=7.62, Standard error of ladder score=0.035, upperwhisker=7.687, lowerwhisker=7.552, Logged GDP per capita=10.933, Social support=0.954, Healthy life expectancy=72.7, Freedom to make life choices=0.946, Generosity=0.03, Perceptions of corruption=0.179, Ladder score in Dystopia=2.43, Explained by: Log GDP per capita=1.502, Explained by: Social support=1.108, Explained by: Healthy life expectancy=0.763, Explained by: Freedom to make life choices=0.686, Explained by: Generosity=0.208, Explained by: Perceptions of corruption=0.485, Dystopia + residual=2.868),\n",
       " Row(Country name='Switzerland', Regional indicator='Western Europe', Ladder score=7.571, Standard error of ladder score=0.036, upperwhisker=7.643, lowerwhisker=7.5, Logged GDP per capita=11.117, Social support=0.942, Healthy life expectancy=74.4, Freedom to make life choices=0.919, Generosity=0.025, Perceptions of corruption=0.292, Ladder score in Dystopia=2.43, Explained by: Log GDP per capita=1.566, Explained by: Social support=1.079, Explained by: Healthy life expectancy=0.816, Explained by: Freedom to make life choices=0.653, Explained by: Generosity=0.204, Explained by: Perceptions of corruption=0.413, Dystopia + residual=2.839),\n",
       " Row(Country name='Iceland', Regional indicator='Western Europe', Ladder score=7.554, Standard error of ladder score=0.059, upperwhisker=7.67, lowerwhisker=7.438, Logged GDP per capita=10.878, Social support=0.983, Healthy life expectancy=73.0, Freedom to make life choices=0.955, Generosity=0.16, Perceptions of corruption=0.673, Ladder score in Dystopia=2.43, Explained by: Log GDP per capita=1.482, Explained by: Social support=1.172, Explained by: Healthy life expectancy=0.772, Explained by: Freedom to make life choices=0.698, Explained by: Generosity=0.293, Explained by: Perceptions of corruption=0.17, Dystopia + residual=2.967),\n",
       " Row(Country name='Netherlands', Regional indicator='Western Europe', Ladder score=7.464, Standard error of ladder score=0.027, upperwhisker=7.518, lowerwhisker=7.41, Logged GDP per capita=10.932, Social support=0.942, Healthy life expectancy=72.4, Freedom to make life choices=0.913, Generosity=0.175, Perceptions of corruption=0.338, Ladder score in Dystopia=2.43, Explained by: Log GDP per capita=1.501, Explained by: Social support=1.079, Explained by: Healthy life expectancy=0.753, Explained by: Freedom to make life choices=0.647, Explained by: Generosity=0.302, Explained by: Perceptions of corruption=0.384, Dystopia + residual=2.798)]"
      ]
     },
     "execution_count": 22,
     "metadata": {},
     "output_type": "execute_result"
    }
   ],
   "source": [
    "# Comprobaciones del archivo\n",
    "\n",
    "data_happy_21.head(5)"
   ]
  },
  {
   "cell_type": "code",
   "execution_count": 23,
   "id": "ccb0f193",
   "metadata": {},
   "outputs": [
    {
     "data": {
      "text/plain": [
       "[Row(Country name='Lesotho', Regional indicator='Sub-Saharan Africa', Ladder score=3.512, Standard error of ladder score=0.12, upperwhisker=3.748, lowerwhisker=3.276, Logged GDP per capita=7.926, Social support=0.787, Healthy life expectancy=48.7, Freedom to make life choices=0.715, Generosity=-0.131, Perceptions of corruption=0.915, Ladder score in Dystopia=2.43, Explained by: Log GDP per capita=0.451, Explained by: Social support=0.731, Explained by: Healthy life expectancy=0.007, Explained by: Freedom to make life choices=0.405, Explained by: Generosity=0.103, Explained by: Perceptions of corruption=0.015, Dystopia + residual=1.8),\n",
       " Row(Country name='Botswana', Regional indicator='Sub-Saharan Africa', Ladder score=3.467, Standard error of ladder score=0.074, upperwhisker=3.611, lowerwhisker=3.322, Logged GDP per capita=9.782, Social support=0.784, Healthy life expectancy=59.269, Freedom to make life choices=0.824, Generosity=-0.246, Perceptions of corruption=0.801, Ladder score in Dystopia=2.43, Explained by: Log GDP per capita=1.099, Explained by: Social support=0.724, Explained by: Healthy life expectancy=0.34, Explained by: Freedom to make life choices=0.539, Explained by: Generosity=0.027, Explained by: Perceptions of corruption=0.088, Dystopia + residual=0.648),\n",
       " Row(Country name='Rwanda', Regional indicator='Sub-Saharan Africa', Ladder score=3.415, Standard error of ladder score=0.068, upperwhisker=3.548, lowerwhisker=3.282, Logged GDP per capita=7.676, Social support=0.552, Healthy life expectancy=61.4, Freedom to make life choices=0.897, Generosity=0.061, Perceptions of corruption=0.167, Ladder score in Dystopia=2.43, Explained by: Log GDP per capita=0.364, Explained by: Social support=0.202, Explained by: Healthy life expectancy=0.407, Explained by: Freedom to make life choices=0.627, Explained by: Generosity=0.227, Explained by: Perceptions of corruption=0.493, Dystopia + residual=1.095),\n",
       " Row(Country name='Zimbabwe', Regional indicator='Sub-Saharan Africa', Ladder score=3.145, Standard error of ladder score=0.058, upperwhisker=3.259, lowerwhisker=3.03, Logged GDP per capita=7.943, Social support=0.75, Healthy life expectancy=56.201, Freedom to make life choices=0.677, Generosity=-0.047, Perceptions of corruption=0.821, Ladder score in Dystopia=2.43, Explained by: Log GDP per capita=0.457, Explained by: Social support=0.649, Explained by: Healthy life expectancy=0.243, Explained by: Freedom to make life choices=0.359, Explained by: Generosity=0.157, Explained by: Perceptions of corruption=0.075, Dystopia + residual=1.205),\n",
       " Row(Country name='Afghanistan', Regional indicator='South Asia', Ladder score=2.523, Standard error of ladder score=0.038, upperwhisker=2.596, lowerwhisker=2.449, Logged GDP per capita=7.695, Social support=0.463, Healthy life expectancy=52.493, Freedom to make life choices=0.382, Generosity=-0.102, Perceptions of corruption=0.924, Ladder score in Dystopia=2.43, Explained by: Log GDP per capita=0.37, Explained by: Social support=0.0, Explained by: Healthy life expectancy=0.126, Explained by: Freedom to make life choices=0.0, Explained by: Generosity=0.122, Explained by: Perceptions of corruption=0.01, Dystopia + residual=1.895)]"
      ]
     },
     "execution_count": 23,
     "metadata": {},
     "output_type": "execute_result"
    }
   ],
   "source": [
    "data_happy_21.tail(5)"
   ]
  },
  {
   "cell_type": "code",
   "execution_count": 27,
   "id": "37bd8457",
   "metadata": {},
   "outputs": [
    {
     "data": {
      "text/plain": [
       "149"
      ]
     },
     "execution_count": 27,
     "metadata": {},
     "output_type": "execute_result"
    }
   ],
   "source": [
    "data_happy_21.count()"
   ]
  },
  {
   "cell_type": "markdown",
   "id": "4b2e0e98",
   "metadata": {},
   "source": [
    "### Carga de datos felicidad hasta el año 2020"
   ]
  },
  {
   "cell_type": "code",
   "execution_count": 19,
   "id": "534efd53",
   "metadata": {},
   "outputs": [
    {
     "name": "stdout",
     "output_type": "stream",
     "text": [
      "root\n",
      " |-- Country name: string (nullable = true)\n",
      " |-- year: string (nullable = true)\n",
      " |-- Life Ladder: string (nullable = true)\n",
      " |-- Log GDP per capita: string (nullable = true)\n",
      " |-- Social support: string (nullable = true)\n",
      " |-- Healthy life expectancy at birth: string (nullable = true)\n",
      " |-- Freedom to make life choices: string (nullable = true)\n",
      " |-- Generosity: string (nullable = true)\n",
      " |-- Perceptions of corruption: string (nullable = true)\n",
      " |-- Positive affect: string (nullable = true)\n",
      " |-- Negative affect: string (nullable = true)\n",
      "\n"
     ]
    }
   ],
   "source": [
    "# Carga del archivo\n",
    "\n",
    "data_happy_years = spark.read.csv(\n",
    "    '/home/lucia/BigDataProcessing/Datasets/world-happiness-report.csv',\n",
    "    sep = ',',\n",
    "    header = True,\n",
    "    )\n",
    "\n",
    "data_happy_years.printSchema()"
   ]
  },
  {
   "cell_type": "code",
   "execution_count": 35,
   "id": "66f87bb1",
   "metadata": {},
   "outputs": [],
   "source": [
    "# Crear un esquema para la carga de datos ya que todos los carga como strings\n",
    "data_years_schema = [\n",
    "               StructField('Country name', StringType(), True),\n",
    "               StructField('year', IntegerType(), True),\n",
    "               StructField('Life Ladder', DoubleType(), True),\n",
    "               StructField('Log GDP per capita', DoubleType(), True),\n",
    "               StructField('Social support', DoubleType(), True),\n",
    "               StructField('Healthy life expectancy at birth', DoubleType(), True),\n",
    "               StructField('Freedom to make life choices', DoubleType(), True),\n",
    "               StructField('Generosity', DoubleType(), True),\n",
    "               StructField('Perceptions of corruption', DoubleType(), True),\n",
    "               StructField('Positive affect', DoubleType(), True),\n",
    "               StructField('Negative affect', DoubleType(), True),\n",
    "                ]\n",
    "\n",
    "final_struc_years = StructType(fields=data_years_schema)"
   ]
  },
  {
   "cell_type": "code",
   "execution_count": 36,
   "id": "1601dccf",
   "metadata": {},
   "outputs": [
    {
     "name": "stdout",
     "output_type": "stream",
     "text": [
      "root\n",
      " |-- Country name: string (nullable = true)\n",
      " |-- year: integer (nullable = true)\n",
      " |-- Life Ladder: double (nullable = true)\n",
      " |-- Log GDP per capita: double (nullable = true)\n",
      " |-- Social support: double (nullable = true)\n",
      " |-- Healthy life expectancy at birth: double (nullable = true)\n",
      " |-- Freedom to make life choices: double (nullable = true)\n",
      " |-- Generosity: double (nullable = true)\n",
      " |-- Perceptions of corruption: double (nullable = true)\n",
      " |-- Positive affect: double (nullable = true)\n",
      " |-- Negative affect: double (nullable = true)\n",
      "\n"
     ]
    }
   ],
   "source": [
    "# Cargar después con el nuevo esquema\n",
    "data_happy_years = spark.read.csv(\n",
    "    '/home/lucia/BigDataProcessing/Datasets/world-happiness-report.csv',\n",
    "    sep = ',',\n",
    "    header = True,\n",
    "    schema = final_struc_years\n",
    "    )\n",
    "\n",
    "data_happy_years.printSchema()"
   ]
  },
  {
   "cell_type": "code",
   "execution_count": 37,
   "id": "15e596b7",
   "metadata": {},
   "outputs": [
    {
     "data": {
      "text/plain": [
       "[Row(Country name='Afghanistan', year=2008, Life Ladder=3.724, Log GDP per capita=7.37, Social support=0.451, Healthy life expectancy at birth=50.8, Freedom to make life choices=0.718, Generosity=0.168, Perceptions of corruption=0.882, Positive affect=0.518, Negative affect=0.258),\n",
       " Row(Country name='Afghanistan', year=2009, Life Ladder=4.402, Log GDP per capita=7.54, Social support=0.552, Healthy life expectancy at birth=51.2, Freedom to make life choices=0.679, Generosity=0.19, Perceptions of corruption=0.85, Positive affect=0.584, Negative affect=0.237),\n",
       " Row(Country name='Afghanistan', year=2010, Life Ladder=4.758, Log GDP per capita=7.647, Social support=0.539, Healthy life expectancy at birth=51.6, Freedom to make life choices=0.6, Generosity=0.121, Perceptions of corruption=0.707, Positive affect=0.618, Negative affect=0.275),\n",
       " Row(Country name='Afghanistan', year=2011, Life Ladder=3.832, Log GDP per capita=7.62, Social support=0.521, Healthy life expectancy at birth=51.92, Freedom to make life choices=0.496, Generosity=0.162, Perceptions of corruption=0.731, Positive affect=0.611, Negative affect=0.267),\n",
       " Row(Country name='Afghanistan', year=2012, Life Ladder=3.783, Log GDP per capita=7.705, Social support=0.521, Healthy life expectancy at birth=52.24, Freedom to make life choices=0.531, Generosity=0.236, Perceptions of corruption=0.776, Positive affect=0.71, Negative affect=0.268)]"
      ]
     },
     "execution_count": 37,
     "metadata": {},
     "output_type": "execute_result"
    }
   ],
   "source": [
    "# Comprobación de la carga de datos\n",
    "data_happy_years.head(5)"
   ]
  },
  {
   "cell_type": "code",
   "execution_count": 39,
   "id": "3801c587",
   "metadata": {},
   "outputs": [
    {
     "data": {
      "text/plain": [
       "[Row(Country name='Zimbabwe', year=2016, Life Ladder=3.735, Log GDP per capita=7.984, Social support=0.768, Healthy life expectancy at birth=54.4, Freedom to make life choices=0.733, Generosity=-0.095, Perceptions of corruption=0.724, Positive affect=0.738, Negative affect=0.209),\n",
       " Row(Country name='Zimbabwe', year=2017, Life Ladder=3.638, Log GDP per capita=8.016, Social support=0.754, Healthy life expectancy at birth=55.0, Freedom to make life choices=0.753, Generosity=-0.098, Perceptions of corruption=0.751, Positive affect=0.806, Negative affect=0.224),\n",
       " Row(Country name='Zimbabwe', year=2018, Life Ladder=3.616, Log GDP per capita=8.049, Social support=0.775, Healthy life expectancy at birth=55.6, Freedom to make life choices=0.763, Generosity=-0.068, Perceptions of corruption=0.844, Positive affect=0.71, Negative affect=0.212),\n",
       " Row(Country name='Zimbabwe', year=2019, Life Ladder=2.694, Log GDP per capita=7.95, Social support=0.759, Healthy life expectancy at birth=56.2, Freedom to make life choices=0.632, Generosity=-0.064, Perceptions of corruption=0.831, Positive affect=0.716, Negative affect=0.235),\n",
       " Row(Country name='Zimbabwe', year=2020, Life Ladder=3.16, Log GDP per capita=7.829, Social support=0.717, Healthy life expectancy at birth=56.8, Freedom to make life choices=0.643, Generosity=-0.009, Perceptions of corruption=0.789, Positive affect=0.703, Negative affect=0.346)]"
      ]
     },
     "execution_count": 39,
     "metadata": {},
     "output_type": "execute_result"
    }
   ],
   "source": [
    "data_happy_years.tail(5)"
   ]
  },
  {
   "cell_type": "code",
   "execution_count": 40,
   "id": "ff9057df",
   "metadata": {},
   "outputs": [
    {
     "data": {
      "text/plain": [
       "1949"
      ]
     },
     "execution_count": 40,
     "metadata": {},
     "output_type": "execute_result"
    }
   ],
   "source": [
    "data_happy_years.count()"
   ]
  },
  {
   "cell_type": "markdown",
   "id": "445ad643",
   "metadata": {},
   "source": [
    "### PREGUNTAS"
   ]
  },
  {
   "cell_type": "markdown",
   "id": "b0300c2f",
   "metadata": {},
   "source": [
    "1. ¿Cuál es el país más “feliz” del 2021 según la data? (considerar que la columna “Ladder score” mayor número más feliz es el país)"
   ]
  },
  {
   "cell_type": "code",
   "execution_count": 145,
   "id": "eb87ab2b",
   "metadata": {},
   "outputs": [
    {
     "name": "stdout",
     "output_type": "stream",
     "text": [
      "+------------+----------------+\n",
      "|Country name|Max_ladder_score|\n",
      "+------------+----------------+\n",
      "|Finland     |7.842           |\n",
      "+------------+----------------+\n",
      "\n"
     ]
    }
   ],
   "source": [
    "max_ladder_21 = data_happy_21.groupBy('Country name') \\\n",
    "                .agg(\n",
    "                    max(col('Ladder score')).alias('Max_ladder_score')\n",
    "                    )\\\n",
    "                .orderBy(col('Max_ladder_score').desc()) \\\n",
    "                .limit(1)\n",
    "max_ladder_21.show(truncate = False)"
   ]
  },
  {
   "cell_type": "markdown",
   "id": "42d82c9b",
   "metadata": {},
   "source": [
    "### El país con mayor nivel del felicidad según el indicador \"Ladder Score\" con un valor de 7.842 es FINLAND."
   ]
  },
  {
   "cell_type": "markdown",
   "id": "d3bb2c96",
   "metadata": {},
   "source": [
    "2. ¿Cuál es el país más “feliz” del 2021 por continente según la data?"
   ]
  },
  {
   "cell_type": "code",
   "execution_count": 72,
   "id": "cdf77a18",
   "metadata": {},
   "outputs": [
    {
     "name": "stdout",
     "output_type": "stream",
     "text": [
      "+----------------------------------+------------------------+----------------+\n",
      "|Regional indicator                |Country                 |Max_ladder_score|\n",
      "+----------------------------------+------------------------+----------------+\n",
      "|Western Europe                    |Finland                 |7.842           |\n",
      "|North America and ANZ             |New Zealand             |7.277           |\n",
      "|Middle East and North Africa      |Israel                  |7.157           |\n",
      "|Latin America and Caribbean       |Costa Rica              |7.069           |\n",
      "|Central and Eastern Europe        |Czech Republic          |6.965           |\n",
      "|East Asia                         |Taiwan Province of China|6.584           |\n",
      "|Southeast Asia                    |Singapore               |6.377           |\n",
      "|Commonwealth of Independent States|Uzbekistan              |6.179           |\n",
      "|Sub-Saharan Africa                |Mauritius               |6.049           |\n",
      "|South Asia                        |Nepal                   |5.269           |\n",
      "+----------------------------------+------------------------+----------------+\n",
      "\n"
     ]
    }
   ],
   "source": [
    "# Utilizamos la columna \"Regional indicator\" para agrupar por continente\n",
    "\n",
    "data_happy_21.groupBy('Regional indicator') \\\n",
    "    .agg(\n",
    "        first(col('Country name')).alias('Country'),\n",
    "        max(col('Ladder score')).alias('Max_ladder_score')\n",
    "        )\\\n",
    "    .orderBy(col('Max_ladder_score').desc()) \\\n",
    "    .show(truncate = False)"
   ]
  },
  {
   "cell_type": "markdown",
   "id": "30069ba7",
   "metadata": {},
   "source": [
    "### En la tabla previa podemos ver el país por continente con mayor nivel de felicidad según el indicador \"Ladder score\"."
   ]
  },
  {
   "cell_type": "markdown",
   "id": "b66e092e",
   "metadata": {},
   "source": [
    "3. ¿Cuál es el país que más veces ocupó el primer lugar en todos los años?"
   ]
  },
  {
   "cell_type": "code",
   "execution_count": 147,
   "id": "d88dd404",
   "metadata": {},
   "outputs": [
    {
     "name": "stdout",
     "output_type": "stream",
     "text": [
      "Country: Finland\n",
      "Max Ladder Score: 7.842\n",
      "+------------+----+-----------+\n",
      "|Country name|year|Life Ladder|\n",
      "+------------+----+-----------+\n",
      "|Afghanistan |2008|3.724      |\n",
      "|Afghanistan |2009|4.402      |\n",
      "|Afghanistan |2010|4.758      |\n",
      "|Afghanistan |2011|3.832      |\n",
      "|Afghanistan |2012|3.783      |\n",
      "|Afghanistan |2013|3.572      |\n",
      "|Afghanistan |2014|3.131      |\n",
      "|Afghanistan |2015|3.983      |\n",
      "|Afghanistan |2016|4.22       |\n",
      "|Afghanistan |2017|2.662      |\n",
      "|Afghanistan |2018|2.694      |\n",
      "|Afghanistan |2019|2.375      |\n",
      "|Albania     |2007|4.634      |\n",
      "|Albania     |2009|5.485      |\n",
      "|Albania     |2010|5.269      |\n",
      "|Albania     |2011|5.867      |\n",
      "|Albania     |2012|5.51       |\n",
      "|Albania     |2013|4.551      |\n",
      "|Albania     |2014|4.814      |\n",
      "|Albania     |2015|4.607      |\n",
      "+------------+----+-----------+\n",
      "only showing top 20 rows\n",
      "\n"
     ]
    }
   ],
   "source": [
    "# Añadir el país con más felicidad en 2021\n",
    "# Creamos un DF con solo las columnas 'Country name', 'year' y 'Life Ladder'\n",
    "\n",
    "df_happy_yearsG = data_happy_years.select('Country name', 'year', 'Life Ladder')\n",
    "\n",
    "# Creamos un nuevo registro con los datos obtenidos en el punto 1 de país, año y valor de Ladder score.\n",
    "first_row = max_ladder_21.collect()[0]\n",
    "country = first_row['Country name']\n",
    "max_ladder = first_row['Max_ladder_score']\n",
    "\n",
    "# Imprimir los valores\n",
    "print(\"Country:\", country_value)\n",
    "print(\"Max Ladder Score:\", max_ladder_value)\n",
    "new_register = Row(country, 2021, max_ladder)  \n",
    "\n",
    "# Con ese registro creamos un DF con el esquema del primer DF\n",
    "df_new_register = spark.createDataFrame([new_register], schema=['Country name', 'year', 'Life Ladder'])\n",
    "\n",
    "# Unimos los dos DF\n",
    "df_happy_yearsGUpdate = df_happy_yearsG.union(df_new_register)\n",
    "\n",
    "# Mostrar resultados\n",
    "df_happy_yearsGUpdate.show(truncate=False)"
   ]
  },
  {
   "cell_type": "code",
   "execution_count": 148,
   "id": "a6886e3a",
   "metadata": {},
   "outputs": [
    {
     "name": "stdout",
     "output_type": "stream",
     "text": [
      "+------------+-----+\n",
      "|Country name|count|\n",
      "+------------+-----+\n",
      "|     Finland|    7|\n",
      "|     Denmark|    7|\n",
      "+------------+-----+\n",
      "\n"
     ]
    }
   ],
   "source": [
    "# Al DF anterior hacemos un ranking por años, de forma ascendente \n",
    "# para ver cual tiene el valor mayor del indicador 'Life Ladder'\n",
    "\n",
    "ranked_data_happy = df_happy_yearsGUpdate.withColumn(\"Ranking\", \n",
    "                                                dense_rank().over(Window.partitionBy(\"year\")\n",
    "                                                                  .orderBy(col(\"Life Ladder\").desc()))\n",
    "                                               )\n",
    "# Creamos un DF con los primeros en el ranking para tener el país con el valor más alto por cada año\n",
    "first_places = ranked_data_happy.filter(col(\"Ranking\") == 1)\n",
    "\n",
    "# Realizamos un conteo agrupando por países ordenado de forma descendente (Cogemos 2 porque hay un empate)\n",
    "first_places.groupBy(\"Country name\").count().orderBy(col(\"count\").desc()).limit(2).show()\n"
   ]
  },
  {
   "cell_type": "markdown",
   "id": "e5733205",
   "metadata": {},
   "source": [
    "### Hay dos países empatados en el primer puesto con 7 veces como primeros en ranking de felicidad \n",
    "### FINLAND y DENMARK"
   ]
  },
  {
   "cell_type": "markdown",
   "id": "b0371d48",
   "metadata": {},
   "source": [
    "4. ¿Qué puesto de Felicidad tiene el país con mayor GDP del 2020?"
   ]
  },
  {
   "cell_type": "code",
   "execution_count": 182,
   "id": "20f1e4cf",
   "metadata": {},
   "outputs": [
    {
     "name": "stdout",
     "output_type": "stream",
     "text": [
      "+--------------------+----+------------------+-----------+-------+\n",
      "|        Country name|year|Log GDP per capita|Life Ladder|Ranking|\n",
      "+--------------------+----+------------------+-----------+-------+\n",
      "|             Finland|2020|             10.75|      7.889|      1|\n",
      "|             Iceland|2020|            10.824|      7.575|      2|\n",
      "|             Denmark|2020|             10.91|      7.515|      3|\n",
      "|         Switzerland|2020|            11.081|      7.508|      4|\n",
      "|         Netherlands|2020|            10.901|      7.504|      5|\n",
      "|              Sweden|2020|            10.838|      7.314|      6|\n",
      "|             Germany|2020|            10.833|      7.312|      7|\n",
      "|              Norway|2020|            11.042|       7.29|      8|\n",
      "|         New Zealand|2020|              10.6|      7.257|      9|\n",
      "|             Austria|2020|            10.851|      7.213|     10|\n",
      "|              Israel|2020|            10.538|      7.195|     11|\n",
      "|           Australia|2020|             10.76|      7.137|     12|\n",
      "|             Ireland|2020|            11.323|      7.035|     13|\n",
      "|       United States|2020|            11.001|      7.028|     14|\n",
      "|              Canada|2020|             10.73|      7.025|     15|\n",
      "|      Czech Republic|2020|             10.53|      6.897|     16|\n",
      "|             Belgium|2020|            10.771|      6.839|     17|\n",
      "|      United Kingdom|2020|            10.626|      6.798|     18|\n",
      "|Taiwan Province o...|2020|              NULL|      6.751|     19|\n",
      "|              France|2020|            10.643|      6.714|     20|\n",
      "+--------------------+----+------------------+-----------+-------+\n",
      "only showing top 20 rows\n",
      "\n",
      "+------------+----+------------------+-----------+-------+\n",
      "|Country name|year|Log GDP per capita|Life Ladder|Ranking|\n",
      "+------------+----+------------------+-----------+-------+\n",
      "|     Ireland|2020|            11.323|      7.035|     13|\n",
      "+------------+----+------------------+-----------+-------+\n",
      "\n"
     ]
    }
   ],
   "source": [
    "# Creamos un DF del año 2020 con las columnas 'Country name' y 'Log GDP per capita'\n",
    "df_happy20GDP = data_happy_years.filter(col('year') == 2020).select('Country name','year','Log GDP per capita', 'Life Ladder')\n",
    "\n",
    "df_happy20GPD_ranked = df_happy20GDP.withColumn('Ranking', rank().over(Window.partitionBy('year').orderBy(col('Life Ladder').desc())))\n",
    "\n",
    "df_happy20GPD_ranked.show()\n",
    "# Ordenamos de mayor a menor por el indicador 'Log GDP per capita', cogemos el primer valor.\n",
    "df_happy20GDP_sorted = df_happy20GPD_ranked.orderBy(col('Log GDP per capita').desc()).limit(1)\n",
    "\n",
    "df_happy20GDP_sorted.show()\n",
    "\n",
    "\n",
    "\n",
    "\n",
    "# Mostrar el DataFrame resultante\n",
    "\n",
    "\n"
   ]
  },
  {
   "cell_type": "markdown",
   "id": "f93d356e",
   "metadata": {},
   "source": [
    "### El país en el año 2020 con  mayor GDP es IRELAND cuyo puesto en el ranking de la felicidad fue el Nª 13"
   ]
  },
  {
   "cell_type": "markdown",
   "id": "aef791ef",
   "metadata": {},
   "source": [
    "\n",
    "5. ¿En que porcentaje ha variado a nivel mundial el GDP promedio del 2020 respecto al 2021? ¿Aumentó o disminuyó?"
   ]
  },
  {
   "cell_type": "code",
   "execution_count": 194,
   "id": "95ed562d",
   "metadata": {},
   "outputs": [],
   "source": [
    "# En el dataset de happy_years hay valores nulos en Log GPD per capita los eleminamos\n",
    "data_happy_yearsCleaned = data_happy_years.na.drop(subset=['Log GDP per capita'])\n"
   ]
  },
  {
   "cell_type": "code",
   "execution_count": 195,
   "id": "bc1ff73e",
   "metadata": {},
   "outputs": [
    {
     "name": "stdout",
     "output_type": "stream",
     "text": [
      "El promedio de GDP en 2021 fue: 9.43.\n",
      "El promedio de GDP en 2020 fue: 9.75.\n",
      "El GDP promedio varió en un -3.27% a nivel mundial del 2020 al 2021: DISMINUYÓ.\n"
     ]
    }
   ],
   "source": [
    "\n",
    "\n",
    "gdp_avg_21 = data_happy_21.agg(avg(col('Logged GDP per capita')).alias('Avg_2021')).collect()[0]['Avg_2021']\n",
    "\n",
    "gdp_avg_20 = data_happy_yearsCleaned.filter(col('year')==2020).agg(avg(col('Log GDP per capita')).alias('Avg_2020'))\\\n",
    "            .collect()[0]['Avg_2020']\n",
    "\n",
    "variacion_21_20 = ((gdp_avg_21-gdp_avg_20)/gdp_avg_20)*100\n",
    "\n",
    "if variacion_21_20 > 0:\n",
    "    result = \"AUMENTÓ\"\n",
    "elif variacion_21_20 < 0:\n",
    "    result = \"DISMINUYÓ\"\n",
    "else:\n",
    "    result = \"SE MANTUVO IGUAL\"\n",
    "\n",
    "print(f\"El promedio de GDP en 2021 fue: {gdp_avg_21:.2f}.\")\n",
    "print(f\"El promedio de GDP en 2020 fue: {gdp_avg_20:.2f}.\")\n",
    "\n",
    "\n",
    "print(f\"El GDP promedio varió en un {variacion_21_20:.2f}% a nivel mundial del 2020 al 2021: {result}.\")\n"
   ]
  },
  {
   "cell_type": "markdown",
   "id": "651029eb",
   "metadata": {},
   "source": [
    "### El promedio del indicador GDP DISMINUYÓ en 2021 con repecto al 2020 en un -3.27%\n"
   ]
  },
  {
   "cell_type": "markdown",
   "id": "e316c352",
   "metadata": {},
   "source": [
    "6. ¿Cuál es el país con mayor expectativa de vide (“Healthy life expectancy at birth”)? Y ¿Cuánto tenia en ese indicador en el 2019?"
   ]
  },
  {
   "cell_type": "code",
   "execution_count": 216,
   "id": "391b18f7",
   "metadata": {},
   "outputs": [
    {
     "name": "stdout",
     "output_type": "stream",
     "text": [
      "+----+------------+--------------------------------+\n",
      "|year|Country name|Healthy life expectancy at birth|\n",
      "+----+------------+--------------------------------+\n",
      "|2019|Singapore   |77.1                            |\n",
      "+----+------------+--------------------------------+\n",
      "\n"
     ]
    }
   ],
   "source": [
    "# Conseguimos el país con mayor \"Healthy life spectancy\" en el 2021\n",
    "healthy21 = data_happy_21.groupBy('Country name') \\\n",
    "    .agg(\n",
    "        max(col('Healthy life expectancy')).alias('Healthy')\n",
    "        )\\\n",
    "    .orderBy(col('Healthy').desc()) \\\n",
    "    .limit(1)\n",
    "\n",
    "# Seleccionamos del DF hasta 2020 las columnas de país, año y el indicador.\n",
    "df_happy_yearsH = data_happy_years.select('Country name', 'year', 'Healthy life expectancy at birth')\n",
    "\n",
    "# Creamos un nuevo registro con los datos obtenidos en el 2021.\n",
    "first_row_Healthy = healthy21.collect()[0]\n",
    "country_healthy = first_row_Healthy['Country name']\n",
    "max_ladder_healthy = first_row_Healthy['Healthy']\n",
    "\n",
    "# Creamos un nuevo registro\n",
    "new_registerH = Row(country_healthy, 2021, max_ladder_healthy)  \n",
    "\n",
    "# Con ese registro creamos un DF con el esquema del DF hasta 2020\n",
    "df_new_registerH = spark.createDataFrame([new_registerH], schema=['Country name', 'year', 'Healthy life expectancy at birth'])\n",
    "\n",
    "# Unimos los dos DF\n",
    "df_happy_yearsHUpdate = df_happy_yearsH.union(df_new_registerH)\n",
    "\n",
    "\n",
    "# Agregar una columna de rango para obtener el máximo por año\n",
    "max_healthy_with_rank = df_happy_yearsHUpdate.withColumn('rank', row_number().over(Window.partitionBy('year').orderBy(col('Healthy life expectancy at birth').desc())))\n",
    "\n",
    "# Filtrar solo las filas con rango 1 (máximo por año)\n",
    "max_healthy_per_year = max_healthy_with_rank.filter(col('rank') == 1)\n",
    "\n",
    "# Seleccionar las columnas relevantes\n",
    "result_df = max_healthy_per_year.select('year', 'Country name', 'Healthy life expectancy at birth')\\\n",
    "                                .orderBy(col('Healthy life expectancy at birth').desc()).limit(1)\n",
    "\n",
    "# Mostrar el DataFrame resultante\n",
    "result_df.show(truncate=False)\n",
    "\n",
    "\n"
   ]
  },
  {
   "cell_type": "markdown",
   "id": "3da79e78",
   "metadata": {},
   "source": [
    "### El país con la mayor esperanza de vida al nacimiento es Singapur con 77.1 años en el año 2019"
   ]
  }
 ],
 "metadata": {
  "kernelspec": {
   "display_name": "Python 3 (ipykernel)",
   "language": "python",
   "name": "python3"
  },
  "language_info": {
   "codemirror_mode": {
    "name": "ipython",
    "version": 3
   },
   "file_extension": ".py",
   "mimetype": "text/x-python",
   "name": "python",
   "nbconvert_exporter": "python",
   "pygments_lexer": "ipython3",
   "version": "3.11.5"
  }
 },
 "nbformat": 4,
 "nbformat_minor": 5
}
